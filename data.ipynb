{
 "cells": [
  {
   "cell_type": "code",
   "execution_count": 1,
   "id": "3146abeb",
   "metadata": {},
   "outputs": [],
   "source": [
    "import pandas as pd"
   ]
  },
  {
   "cell_type": "markdown",
   "id": "47ea2472",
   "metadata": {},
   "source": [
    "## 1 Corruption Perceptions Index"
   ]
  },
  {
   "cell_type": "code",
   "execution_count": 2,
   "id": "49789119",
   "metadata": {},
   "outputs": [
    {
     "name": "stdout",
     "output_type": "stream",
     "text": [
      "          country iso3 region  year  score  rank  sources  standardError\n",
      "0     Afghanistan  AFG     AP  2012      8   174        3           3.30\n",
      "1     Afghanistan  AFG     AP  2013      8   175        3           3.30\n",
      "2     Afghanistan  AFG     AP  2014     12   172        4           1.29\n",
      "3     Afghanistan  AFG     AP  2015     11   166        4           3.49\n",
      "4     Afghanistan  AFG     AP  2016     15   169        5           1.74\n",
      "...           ...  ...    ...   ...    ...   ...      ...            ...\n",
      "2307     Zimbabwe  ZWE    SSA  2020     24   157        9           1.35\n",
      "2308     Zimbabwe  ZWE    SSA  2021     23   157        8           1.52\n",
      "2309     Zimbabwe  ZWE    SSA  2022     23   157        8           1.53\n",
      "2310     Zimbabwe  ZWE    SSA  2023     24   149        9           1.30\n",
      "2311     Zimbabwe  ZWE    SSA  2024     21   158        9           0.91\n",
      "\n",
      "[2312 rows x 8 columns]\n"
     ]
    }
   ],
   "source": [
    "cpi_data = pd.read_json('data/cpi.json')\n",
    "print(cpi_data)"
   ]
  },
  {
   "cell_type": "code",
   "execution_count": 4,
   "id": "bf43cd03",
   "metadata": {},
   "outputs": [
    {
     "data": {
      "application/vnd.microsoft.datawrangler.viewer.v0+json": {
       "columns": [
        {
         "name": "index",
         "rawType": "int64",
         "type": "integer"
        },
        {
         "name": "country",
         "rawType": "object",
         "type": "string"
        },
        {
         "name": "iso3",
         "rawType": "object",
         "type": "string"
        },
        {
         "name": "region",
         "rawType": "object",
         "type": "string"
        },
        {
         "name": "year",
         "rawType": "int64",
         "type": "integer"
        },
        {
         "name": "score",
         "rawType": "int64",
         "type": "integer"
        },
        {
         "name": "rank",
         "rawType": "int64",
         "type": "integer"
        },
        {
         "name": "sources",
         "rawType": "int64",
         "type": "integer"
        },
        {
         "name": "standardError",
         "rawType": "float64",
         "type": "float"
        }
       ],
       "conversionMethod": "pd.DataFrame",
       "ref": "3e05bb46-e8fd-48d7-90bf-b8df7d7099f9",
       "rows": [
        [
         "12",
         "Afghanistan",
         "AFG",
         "AP",
         "2024",
         "17",
         "165",
         "5",
         "5.76"
        ],
        [
         "25",
         "Albania",
         "ALB",
         "ECA",
         "2024",
         "42",
         "80",
         "8",
         "3.03"
        ],
        [
         "38",
         "Algeria",
         "DZA",
         "MENA",
         "2024",
         "34",
         "107",
         "8",
         "2.64"
        ],
        [
         "51",
         "Angola",
         "AGO",
         "SSA",
         "2024",
         "32",
         "121",
         "8",
         "2.8"
        ],
        [
         "64",
         "Argentina",
         "ARG",
         "AME",
         "2024",
         "37",
         "99",
         "8",
         "3.01"
        ],
        [
         "77",
         "Armenia",
         "ARM",
         "ECA",
         "2024",
         "47",
         "63",
         "6",
         "2.5"
        ],
        [
         "90",
         "Australia",
         "AUS",
         "AP",
         "2024",
         "77",
         "10",
         "9",
         "1.67"
        ],
        [
         "103",
         "Austria",
         "AUT",
         "WE/EU",
         "2024",
         "67",
         "25",
         "8",
         "1.92"
        ],
        [
         "116",
         "Azerbaijan",
         "AZE",
         "ECA",
         "2024",
         "22",
         "154",
         "6",
         "2.38"
        ],
        [
         "128",
         "Bahamas",
         "BHS",
         "AME",
         "2024",
         "65",
         "28",
         "3",
         "6.24"
        ],
        [
         "141",
         "Bahrain",
         "BHR",
         "MENA",
         "2024",
         "53",
         "53",
         "7",
         "6.44"
        ],
        [
         "154",
         "Bangladesh",
         "BGD",
         "AP",
         "2024",
         "23",
         "151",
         "8",
         "1.46"
        ],
        [
         "166",
         "Barbados",
         "BRB",
         "AME",
         "2024",
         "68",
         "23",
         "3",
         "3.12"
        ],
        [
         "179",
         "Belarus",
         "BLR",
         "ECA",
         "2024",
         "33",
         "114",
         "7",
         "3.18"
        ],
        [
         "192",
         "Belgium",
         "BEL",
         "WE/EU",
         "2024",
         "69",
         "22",
         "8",
         "1.66"
        ],
        [
         "205",
         "Benin",
         "BEN",
         "SSA",
         "2024",
         "45",
         "69",
         "6",
         "3.4"
        ],
        [
         "218",
         "Bhutan",
         "BTN",
         "AP",
         "2024",
         "72",
         "18",
         "4",
         "1.64"
        ],
        [
         "231",
         "Bolivia",
         "BOL",
         "AME",
         "2024",
         "28",
         "133",
         "7",
         "3.1"
        ],
        [
         "244",
         "Bosnia and Herzegovina",
         "BIH",
         "ECA",
         "2024",
         "33",
         "114",
         "7",
         "2.04"
        ],
        [
         "257",
         "Botswana",
         "BWA",
         "SSA",
         "2024",
         "57",
         "43",
         "9",
         "2.41"
        ],
        [
         "270",
         "Brazil",
         "BRA",
         "AME",
         "2024",
         "34",
         "107",
         "8",
         "2.41"
        ],
        [
         "290",
         "Bulgaria",
         "BGR",
         "WE/EU",
         "2024",
         "43",
         "76",
         "9",
         "1.92"
        ],
        [
         "303",
         "Burkina Faso",
         "BFA",
         "SSA",
         "2024",
         "41",
         "82",
         "7",
         "2.3"
        ],
        [
         "316",
         "Burundi",
         "BDI",
         "SSA",
         "2024",
         "17",
         "165",
         "5",
         "3.37"
        ],
        [
         "329",
         "Cabo Verde",
         "CPV",
         "SSA",
         "2024",
         "62",
         "35",
         "5",
         "3.86"
        ],
        [
         "342",
         "Cambodia",
         "KHM",
         "AP",
         "2024",
         "21",
         "158",
         "7",
         "2.86"
        ],
        [
         "355",
         "Cameroon",
         "CMR",
         "SSA",
         "2024",
         "26",
         "140",
         "9",
         "1.76"
        ],
        [
         "368",
         "Canada",
         "CAN",
         "AME",
         "2024",
         "75",
         "15",
         "8",
         "1.95"
        ],
        [
         "381",
         "Central African Republic",
         "CAF",
         "SSA",
         "2024",
         "24",
         "149",
         "5",
         "1.57"
        ],
        [
         "394",
         "Chad",
         "TCD",
         "SSA",
         "2024",
         "21",
         "158",
         "6",
         "3.01"
        ],
        [
         "407",
         "Chile",
         "CHL",
         "AME",
         "2024",
         "63",
         "32",
         "8",
         "2.3"
        ],
        [
         "420",
         "China",
         "CHN",
         "AP",
         "2024",
         "43",
         "76",
         "8",
         "1.64"
        ],
        [
         "433",
         "Colombia",
         "COL",
         "AME",
         "2024",
         "39",
         "92",
         "8",
         "2.59"
        ],
        [
         "446",
         "Comoros",
         "COM",
         "SSA",
         "2024",
         "21",
         "158",
         "4",
         "8.21"
        ],
        [
         "459",
         "Congo",
         "COG",
         "SSA",
         "2024",
         "23",
         "151",
         "8",
         "1.7"
        ],
        [
         "472",
         "Costa Rica",
         "CRI",
         "AME",
         "2024",
         "58",
         "42",
         "7",
         "3.08"
        ],
        [
         "485",
         "Côte d'Ivoire",
         "CIV",
         "SSA",
         "2024",
         "45",
         "69",
         "9",
         "2.48"
        ],
        [
         "498",
         "Croatia",
         "HRV",
         "WE/EU",
         "2024",
         "47",
         "63",
         "9",
         "1.87"
        ],
        [
         "511",
         "Cuba",
         "CUB",
         "AME",
         "2024",
         "41",
         "82",
         "5",
         "3.09"
        ],
        [
         "524",
         "Cyprus",
         "CYP",
         "WE/EU",
         "2024",
         "56",
         "46",
         "7",
         "2.48"
        ],
        [
         "537",
         "Czechia",
         "CZE",
         "WE/EU",
         "2024",
         "56",
         "46",
         "10",
         "1.39"
        ],
        [
         "550",
         "Democratic Republic of the Congo",
         "COD",
         "SSA",
         "2024",
         "20",
         "163",
         "8",
         "1.63"
        ],
        [
         "563",
         "Denmark",
         "DNK",
         "WE/EU",
         "2024",
         "90",
         "1",
         "8",
         "1.98"
        ],
        [
         "576",
         "Djibouti",
         "DJI",
         "SSA",
         "2024",
         "31",
         "127",
         "5",
         "1.98"
        ],
        [
         "588",
         "Dominica",
         "DMA",
         "AME",
         "2024",
         "60",
         "36",
         "3",
         "1.74"
        ],
        [
         "601",
         "Dominican Republic",
         "DOM",
         "AME",
         "2024",
         "36",
         "104",
         "7",
         "2.33"
        ],
        [
         "614",
         "Ecuador",
         "ECU",
         "AME",
         "2024",
         "32",
         "121",
         "7",
         "2.34"
        ],
        [
         "627",
         "Egypt",
         "EGY",
         "MENA",
         "2024",
         "30",
         "130",
         "8",
         "3.62"
        ],
        [
         "640",
         "El Salvador",
         "SLV",
         "AME",
         "2024",
         "30",
         "130",
         "7",
         "1.01"
        ],
        [
         "650",
         "Equatorial Guinea",
         "GNQ",
         "SSA",
         "2024",
         "13",
         "173",
         "5",
         "2.54"
        ]
       ],
       "shape": {
        "columns": 8,
        "rows": 180
       }
      },
      "text/html": [
       "<div>\n",
       "<style scoped>\n",
       "    .dataframe tbody tr th:only-of-type {\n",
       "        vertical-align: middle;\n",
       "    }\n",
       "\n",
       "    .dataframe tbody tr th {\n",
       "        vertical-align: top;\n",
       "    }\n",
       "\n",
       "    .dataframe thead th {\n",
       "        text-align: right;\n",
       "    }\n",
       "</style>\n",
       "<table border=\"1\" class=\"dataframe\">\n",
       "  <thead>\n",
       "    <tr style=\"text-align: right;\">\n",
       "      <th></th>\n",
       "      <th>country</th>\n",
       "      <th>iso3</th>\n",
       "      <th>region</th>\n",
       "      <th>year</th>\n",
       "      <th>score</th>\n",
       "      <th>rank</th>\n",
       "      <th>sources</th>\n",
       "      <th>standardError</th>\n",
       "    </tr>\n",
       "  </thead>\n",
       "  <tbody>\n",
       "    <tr>\n",
       "      <th>12</th>\n",
       "      <td>Afghanistan</td>\n",
       "      <td>AFG</td>\n",
       "      <td>AP</td>\n",
       "      <td>2024</td>\n",
       "      <td>17</td>\n",
       "      <td>165</td>\n",
       "      <td>5</td>\n",
       "      <td>5.76</td>\n",
       "    </tr>\n",
       "    <tr>\n",
       "      <th>25</th>\n",
       "      <td>Albania</td>\n",
       "      <td>ALB</td>\n",
       "      <td>ECA</td>\n",
       "      <td>2024</td>\n",
       "      <td>42</td>\n",
       "      <td>80</td>\n",
       "      <td>8</td>\n",
       "      <td>3.03</td>\n",
       "    </tr>\n",
       "    <tr>\n",
       "      <th>38</th>\n",
       "      <td>Algeria</td>\n",
       "      <td>DZA</td>\n",
       "      <td>MENA</td>\n",
       "      <td>2024</td>\n",
       "      <td>34</td>\n",
       "      <td>107</td>\n",
       "      <td>8</td>\n",
       "      <td>2.64</td>\n",
       "    </tr>\n",
       "    <tr>\n",
       "      <th>51</th>\n",
       "      <td>Angola</td>\n",
       "      <td>AGO</td>\n",
       "      <td>SSA</td>\n",
       "      <td>2024</td>\n",
       "      <td>32</td>\n",
       "      <td>121</td>\n",
       "      <td>8</td>\n",
       "      <td>2.80</td>\n",
       "    </tr>\n",
       "    <tr>\n",
       "      <th>64</th>\n",
       "      <td>Argentina</td>\n",
       "      <td>ARG</td>\n",
       "      <td>AME</td>\n",
       "      <td>2024</td>\n",
       "      <td>37</td>\n",
       "      <td>99</td>\n",
       "      <td>8</td>\n",
       "      <td>3.01</td>\n",
       "    </tr>\n",
       "    <tr>\n",
       "      <th>...</th>\n",
       "      <td>...</td>\n",
       "      <td>...</td>\n",
       "      <td>...</td>\n",
       "      <td>...</td>\n",
       "      <td>...</td>\n",
       "      <td>...</td>\n",
       "      <td>...</td>\n",
       "      <td>...</td>\n",
       "    </tr>\n",
       "    <tr>\n",
       "      <th>2259</th>\n",
       "      <td>Venezuela</td>\n",
       "      <td>VEN</td>\n",
       "      <td>AME</td>\n",
       "      <td>2024</td>\n",
       "      <td>10</td>\n",
       "      <td>178</td>\n",
       "      <td>8</td>\n",
       "      <td>1.27</td>\n",
       "    </tr>\n",
       "    <tr>\n",
       "      <th>2272</th>\n",
       "      <td>Vietnam</td>\n",
       "      <td>VNM</td>\n",
       "      <td>AP</td>\n",
       "      <td>2024</td>\n",
       "      <td>40</td>\n",
       "      <td>88</td>\n",
       "      <td>8</td>\n",
       "      <td>1.58</td>\n",
       "    </tr>\n",
       "    <tr>\n",
       "      <th>2285</th>\n",
       "      <td>Yemen</td>\n",
       "      <td>YEM</td>\n",
       "      <td>MENA</td>\n",
       "      <td>2024</td>\n",
       "      <td>13</td>\n",
       "      <td>173</td>\n",
       "      <td>7</td>\n",
       "      <td>1.72</td>\n",
       "    </tr>\n",
       "    <tr>\n",
       "      <th>2298</th>\n",
       "      <td>Zambia</td>\n",
       "      <td>ZMB</td>\n",
       "      <td>SSA</td>\n",
       "      <td>2024</td>\n",
       "      <td>39</td>\n",
       "      <td>92</td>\n",
       "      <td>9</td>\n",
       "      <td>1.76</td>\n",
       "    </tr>\n",
       "    <tr>\n",
       "      <th>2311</th>\n",
       "      <td>Zimbabwe</td>\n",
       "      <td>ZWE</td>\n",
       "      <td>SSA</td>\n",
       "      <td>2024</td>\n",
       "      <td>21</td>\n",
       "      <td>158</td>\n",
       "      <td>9</td>\n",
       "      <td>0.91</td>\n",
       "    </tr>\n",
       "  </tbody>\n",
       "</table>\n",
       "<p>180 rows × 8 columns</p>\n",
       "</div>"
      ],
      "text/plain": [
       "          country iso3 region  year  score  rank  sources  standardError\n",
       "12    Afghanistan  AFG     AP  2024     17   165        5           5.76\n",
       "25        Albania  ALB    ECA  2024     42    80        8           3.03\n",
       "38        Algeria  DZA   MENA  2024     34   107        8           2.64\n",
       "51         Angola  AGO    SSA  2024     32   121        8           2.80\n",
       "64      Argentina  ARG    AME  2024     37    99        8           3.01\n",
       "...           ...  ...    ...   ...    ...   ...      ...            ...\n",
       "2259    Venezuela  VEN    AME  2024     10   178        8           1.27\n",
       "2272      Vietnam  VNM     AP  2024     40    88        8           1.58\n",
       "2285        Yemen  YEM   MENA  2024     13   173        7           1.72\n",
       "2298       Zambia  ZMB    SSA  2024     39    92        9           1.76\n",
       "2311     Zimbabwe  ZWE    SSA  2024     21   158        9           0.91\n",
       "\n",
       "[180 rows x 8 columns]"
      ]
     },
     "execution_count": 4,
     "metadata": {},
     "output_type": "execute_result"
    }
   ],
   "source": [
    "clean_cpi = cpi_data[cpi_data['year'] == 2024]\n",
    "clean_cpi"
   ]
  },
  {
   "cell_type": "markdown",
   "id": "b06ffc86",
   "metadata": {},
   "source": [
    "## 2 Basel AML Index 2024 "
   ]
  },
  {
   "cell_type": "code",
   "execution_count": 11,
   "id": "928b3169",
   "metadata": {},
   "outputs": [
    {
     "data": {
      "application/vnd.microsoft.datawrangler.viewer.v0+json": {
       "columns": [
        {
         "name": "index",
         "rawType": "int64",
         "type": "integer"
        },
        {
         "name": "Country",
         "rawType": "object",
         "type": "string"
        },
        {
         "name": "Overall score 2024",
         "rawType": "float64",
         "type": "float"
        },
        {
         "name": "Ranking 2024",
         "rawType": "int64",
         "type": "integer"
        }
       ],
       "conversionMethod": "pd.DataFrame",
       "ref": "a2324e39-7c87-4c75-829a-b71d3cc47906",
       "rows": [
        [
         "0",
         "MYANMAR",
         "8.17",
         "1"
        ],
        [
         "1",
         "HAITI",
         "7.92",
         "2"
        ],
        [
         "2",
         "DEMOCRATIC REPUBLIC OF THE CONGO",
         "7.73",
         "3"
        ],
        [
         "3",
         "CHAD",
         "7.6",
         "4"
        ],
        [
         "4",
         "VENEZUELA",
         "7.59",
         "5"
        ],
        [
         "5",
         "LAO PDR",
         "7.53",
         "6"
        ],
        [
         "6",
         "CENTRAL AFRICAN REPUBLIC",
         "7.49",
         "7"
        ],
        [
         "7",
         "GABON",
         "7.48",
         "8"
        ],
        [
         "8",
         "REPUBLIC OF THE CONGO",
         "7.28",
         "9"
        ],
        [
         "9",
         "GUINEA-BISSAU",
         "7.28",
         "10"
        ],
        [
         "10",
         "CHINA",
         "7.27",
         "11"
        ],
        [
         "11",
         "MOZAMBIQUE",
         "7.15",
         "12"
        ],
        [
         "12",
         "LIBERIA",
         "7.11",
         "13"
        ],
        [
         "13",
         "ALGERIA",
         "6.92",
         "14"
        ],
        [
         "14",
         "VIETNAM",
         "6.9",
         "15"
        ],
        [
         "15",
         "KENYA",
         "6.87",
         "16"
        ],
        [
         "16",
         "NIGERIA",
         "6.85",
         "17"
        ],
        [
         "17",
         "NIGER",
         "6.83",
         "18"
        ],
        [
         "18",
         "MALI",
         "6.81",
         "19"
        ],
        [
         "19",
         "MADAGASCAR",
         "6.76",
         "20"
        ],
        [
         "20",
         "CAMBODIA",
         "6.75",
         "21"
        ],
        [
         "21",
         "ANGOLA",
         "6.71",
         "22"
        ],
        [
         "22",
         "TURKMENISTAN",
         "6.71",
         "23"
        ],
        [
         "23",
         "ESWATINI",
         "6.69",
         "24"
        ],
        [
         "24",
         "COMOROS",
         "6.68",
         "25"
        ],
        [
         "25",
         "CAMEROON",
         "6.67",
         "26"
        ],
        [
         "26",
         "SIERRA LEONE",
         "6.49",
         "27"
        ],
        [
         "27",
         "BURKINA FASO",
         "6.48",
         "28"
        ],
        [
         "28",
         "TOGO",
         "6.48",
         "29"
        ],
        [
         "29",
         "TAJIKISTAN",
         "6.45",
         "30"
        ],
        [
         "30",
         "BENIN",
         "6.44",
         "31"
        ],
        [
         "31",
         "GUINEA",
         "6.44",
         "32"
        ],
        [
         "32",
         "COTE D'IVOIRE",
         "6.42",
         "33"
        ],
        [
         "33",
         "NICARAGUA",
         "6.4",
         "34"
        ],
        [
         "34",
         "SOLOMON ISLANDS",
         "6.32",
         "35"
        ],
        [
         "35",
         "MAURITANIA",
         "6.28",
         "36"
        ],
        [
         "36",
         "KUWAIT",
         "6.27",
         "37"
        ],
        [
         "37",
         "UNITED ARAB EMIRATES",
         "6.18",
         "38"
        ],
        [
         "38",
         "THAILAND",
         "6.16",
         "39"
        ],
        [
         "39",
         "SURINAME",
         "6.09",
         "40"
        ],
        [
         "40",
         "TANZANIA",
         "6.08",
         "41"
        ],
        [
         "41",
         "NEPAL",
         "6.01",
         "42"
        ],
        [
         "42",
         "LESOTHO",
         "5.98",
         "43"
        ],
        [
         "43",
         "ZIMBABWE",
         "5.98",
         "44"
        ],
        [
         "44",
         "KYRGYZSTAN",
         "5.95",
         "45"
        ],
        [
         "45",
         "RWANDA",
         "5.94",
         "46"
        ],
        [
         "46",
         "PANAMA",
         "5.9",
         "47"
        ],
        [
         "47",
         "SAUDI ARABIA",
         "5.88",
         "48"
        ],
        [
         "48",
         "PHILIPPINES",
         "5.84",
         "49"
        ],
        [
         "49",
         "LEBANON",
         "5.81",
         "50"
        ]
       ],
       "shape": {
        "columns": 3,
        "rows": 165
       }
      },
      "text/html": [
       "<div>\n",
       "<style scoped>\n",
       "    .dataframe tbody tr th:only-of-type {\n",
       "        vertical-align: middle;\n",
       "    }\n",
       "\n",
       "    .dataframe tbody tr th {\n",
       "        vertical-align: top;\n",
       "    }\n",
       "\n",
       "    .dataframe thead th {\n",
       "        text-align: right;\n",
       "    }\n",
       "</style>\n",
       "<table border=\"1\" class=\"dataframe\">\n",
       "  <thead>\n",
       "    <tr style=\"text-align: right;\">\n",
       "      <th></th>\n",
       "      <th>Country</th>\n",
       "      <th>Overall score 2024</th>\n",
       "      <th>Ranking 2024</th>\n",
       "    </tr>\n",
       "  </thead>\n",
       "  <tbody>\n",
       "    <tr>\n",
       "      <th>0</th>\n",
       "      <td>MYANMAR</td>\n",
       "      <td>8.17</td>\n",
       "      <td>1</td>\n",
       "    </tr>\n",
       "    <tr>\n",
       "      <th>1</th>\n",
       "      <td>HAITI</td>\n",
       "      <td>7.92</td>\n",
       "      <td>2</td>\n",
       "    </tr>\n",
       "    <tr>\n",
       "      <th>2</th>\n",
       "      <td>DEMOCRATIC REPUBLIC OF THE CONGO</td>\n",
       "      <td>7.73</td>\n",
       "      <td>3</td>\n",
       "    </tr>\n",
       "    <tr>\n",
       "      <th>3</th>\n",
       "      <td>CHAD</td>\n",
       "      <td>7.60</td>\n",
       "      <td>4</td>\n",
       "    </tr>\n",
       "    <tr>\n",
       "      <th>4</th>\n",
       "      <td>VENEZUELA</td>\n",
       "      <td>7.59</td>\n",
       "      <td>5</td>\n",
       "    </tr>\n",
       "    <tr>\n",
       "      <th>...</th>\n",
       "      <td>...</td>\n",
       "      <td>...</td>\n",
       "      <td>...</td>\n",
       "    </tr>\n",
       "    <tr>\n",
       "      <th>160</th>\n",
       "      <td>ANDORRA</td>\n",
       "      <td>3.29</td>\n",
       "      <td>160</td>\n",
       "    </tr>\n",
       "    <tr>\n",
       "      <th>161</th>\n",
       "      <td>ESTONIA</td>\n",
       "      <td>3.16</td>\n",
       "      <td>161</td>\n",
       "    </tr>\n",
       "    <tr>\n",
       "      <th>162</th>\n",
       "      <td>FINLAND</td>\n",
       "      <td>3.07</td>\n",
       "      <td>162</td>\n",
       "    </tr>\n",
       "    <tr>\n",
       "      <th>163</th>\n",
       "      <td>ICELAND</td>\n",
       "      <td>3.00</td>\n",
       "      <td>163</td>\n",
       "    </tr>\n",
       "    <tr>\n",
       "      <th>164</th>\n",
       "      <td>SAN MARINO</td>\n",
       "      <td>2.96</td>\n",
       "      <td>164</td>\n",
       "    </tr>\n",
       "  </tbody>\n",
       "</table>\n",
       "<p>165 rows × 3 columns</p>\n",
       "</div>"
      ],
      "text/plain": [
       "                              Country  Overall score 2024  Ranking 2024\n",
       "0                             MYANMAR                8.17             1\n",
       "1                               HAITI                7.92             2\n",
       "2    DEMOCRATIC REPUBLIC OF THE CONGO                7.73             3\n",
       "3                                CHAD                7.60             4\n",
       "4                           VENEZUELA                7.59             5\n",
       "..                                ...                 ...           ...\n",
       "160                           ANDORRA                3.29           160\n",
       "161                           ESTONIA                3.16           161\n",
       "162                           FINLAND                3.07           162\n",
       "163                           ICELAND                3.00           163\n",
       "164                        SAN MARINO                2.96           164\n",
       "\n",
       "[165 rows x 3 columns]"
      ]
     },
     "execution_count": 11,
     "metadata": {},
     "output_type": "execute_result"
    }
   ],
   "source": [
    "aml = pd.read_csv('data/aml_basel_2024.csv')\n",
    "aml"
   ]
  }
 ],
 "metadata": {
  "kernelspec": {
   "display_name": "Python 3",
   "language": "python",
   "name": "python3"
  },
  "language_info": {
   "codemirror_mode": {
    "name": "ipython",
    "version": 3
   },
   "file_extension": ".py",
   "mimetype": "text/x-python",
   "name": "python",
   "nbconvert_exporter": "python",
   "pygments_lexer": "ipython3",
   "version": "3.12.10"
  }
 },
 "nbformat": 4,
 "nbformat_minor": 5
}
